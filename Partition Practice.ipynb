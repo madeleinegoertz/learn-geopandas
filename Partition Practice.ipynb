{
 "cells": [
  {
   "cell_type": "code",
   "execution_count": 1,
   "metadata": {},
   "outputs": [],
   "source": [
    "import geopandas\n",
    "from gerrychain import Partition, Graph\n",
    "from gerrychain.updaters import cut_edges\n",
    "\n",
    "graph = Graph.from_json(\"./PA_VTDs.json\")\n",
    "\n",
    "partition = Partition(graph, \"CD_2011\", {\"cut_edges\": cut_edges})"
   ]
  },
  {
   "cell_type": "code",
   "execution_count": 2,
   "metadata": {},
   "outputs": [
    {
     "data": {
      "text/plain": [
       "<Graph [9255 nodes, 25723 edges]>"
      ]
     },
     "execution_count": 2,
     "metadata": {},
     "output_type": "execute_result"
    }
   ],
   "source": [
    "partition.graph"
   ]
  },
  {
   "cell_type": "code",
   "execution_count": 3,
   "metadata": {},
   "outputs": [
    {
     "data": {
      "text/plain": [
       "{'boundary_node': True,\n",
       " 'boundary_perim': 0.06312599142331599,\n",
       " 'area': 0.004278359631999892,\n",
       " 'STATEFP10': '42',\n",
       " 'COUNTYFP10': '085',\n",
       " 'VTDST10': '960',\n",
       " 'GEOID10': '42085960',\n",
       " 'VTDI10': 'A',\n",
       " 'NAME10': 'SHENANGO TWP VTD WEST',\n",
       " 'NAMELSAD10': 'SHENANGO TWP VTD WEST',\n",
       " 'LSAD10': '00',\n",
       " 'MTFCC10': 'G5240',\n",
       " 'FUNCSTAT10': 'N',\n",
       " 'ALAND10': 39740056,\n",
       " 'AWATER10': 141805,\n",
       " 'INTPTLAT10': '+41.1564874',\n",
       " 'INTPTLON10': '-080.4865792',\n",
       " 'TOTPOP': 1915,\n",
       " 'NH_WHITE': 1839,\n",
       " 'NH_BLACK': 35,\n",
       " 'NH_AMIN': 1,\n",
       " 'NH_ASIAN': 8,\n",
       " 'NH_NHPI': 0,\n",
       " 'NH_OTHER': 3,\n",
       " 'NH_2MORE': 19,\n",
       " 'HISP': 10,\n",
       " 'H_WHITE': 3,\n",
       " 'H_BLACK': 0,\n",
       " 'H_AMIN': 1,\n",
       " 'H_ASIAN': 0,\n",
       " 'H_NHPI': 0,\n",
       " 'H_OTHER': 4,\n",
       " 'H_2MORE': 2,\n",
       " 'VAP': 1553,\n",
       " 'HVAP': 7,\n",
       " 'WVAP': 1494,\n",
       " 'BVAP': 30,\n",
       " 'AMINVAP': 1,\n",
       " 'ASIANVAP': 6,\n",
       " 'NHPIVAP': 0,\n",
       " 'OTHERVAP': 2,\n",
       " '2MOREVAP': 13,\n",
       " 'ATG12D': 514.0001036045286,\n",
       " 'ATG12R': 388.0000782073095,\n",
       " 'F2014GOVD': 290.0000584539169,\n",
       " 'F2014GOVR': 242.00004877878584,\n",
       " 'GOV10D': 289.00005825235166,\n",
       " 'GOV10R': 349.00007034626555,\n",
       " 'PRES12D': 492.0000991700935,\n",
       " 'PRES12O': 11.000002217217538,\n",
       " 'PRES12R': 451.0000909059191,\n",
       " 'SEN10D': 315.00006349304766,\n",
       " 'SEN10R': 328.0000661133957,\n",
       " 'T16ATGD': 416.00008385113597,\n",
       " 'T16ATGR': 558.0001124733988,\n",
       " 'T16PRESD': 342.0000689353089,\n",
       " 'T16PRESOTH': 32.00000645008738,\n",
       " 'T16PRESR': 631.0001271876606,\n",
       " 'T16SEND': 379.00007639322246,\n",
       " 'T16SENR': 590.0001189234862,\n",
       " 'USS12D': 505.00010179044153,\n",
       " 'USS12R': 423.0000852620926,\n",
       " 'REMEDIAL': '16',\n",
       " 'GOV': '3',\n",
       " 'TS': 3,\n",
       " 'CD_2011': 3,\n",
       " 'SEND': 50,\n",
       " 'HDIST': 7,\n",
       " '538DEM': '03',\n",
       " '538GOP': '03',\n",
       " '538CMPCT': '03'}"
      ]
     },
     "execution_count": 3,
     "metadata": {},
     "output_type": "execute_result"
    }
   ],
   "source": [
    "partition.graph.nodes[0]"
   ]
  },
  {
   "cell_type": "code",
   "execution_count": 4,
   "metadata": {},
   "outputs": [
    {
     "name": "stdout",
     "output_type": "stream",
     "text": [
      "3\n",
      "3\n",
      "3\n",
      "3\n",
      "3\n",
      "3\n",
      "3\n",
      "3\n",
      "3\n",
      "3\n"
     ]
    }
   ],
   "source": [
    "first_ten_nodes = list(partition.graph.nodes)[:10]\n",
    "for node in first_ten_nodes:\n",
    "    print(partition.assignment[node])"
   ]
  },
  {
   "cell_type": "code",
   "execution_count": 5,
   "metadata": {},
   "outputs": [
    {
     "name": "stdout",
     "output_type": "stream",
     "text": [
      "Part 3 has 500 nodes\n",
      "Part 5 has 580 nodes\n",
      "Part 10 has 515 nodes\n",
      "Part 9 has 575 nodes\n",
      "Part 12 has 623 nodes\n",
      "Part 6 has 313 nodes\n",
      "Part 15 has 324 nodes\n",
      "Part 7 has 405 nodes\n",
      "Part 16 has 329 nodes\n",
      "Part 11 has 456 nodes\n",
      "Part 4 has 292 nodes\n",
      "Part 8 has 340 nodes\n",
      "Part 17 has 442 nodes\n",
      "Part 18 has 600 nodes\n",
      "Part 14 has 867 nodes\n",
      "Part 13 has 548 nodes\n",
      "Part 2 has 828 nodes\n",
      "Part 1 has 718 nodes\n"
     ]
    }
   ],
   "source": [
    "for part in partition.parts:\n",
    "    number_of_nodes = len(partition.parts[part])\n",
    "    print(f\"Part {part} has {number_of_nodes} nodes\")"
   ]
  },
  {
   "cell_type": "code",
   "execution_count": 6,
   "metadata": {},
   "outputs": [
    {
     "name": "stdout",
     "output_type": "stream",
     "text": [
      "Part 3 has 1229 edges\n",
      "Part 5 has 1450 edges\n",
      "Part 10 has 1252 edges\n",
      "Part 9 has 1391 edges\n",
      "Part 12 has 1601 edges\n",
      "Part 6 has 749 edges\n",
      "Part 15 has 834 edges\n",
      "Part 7 has 931 edges\n",
      "Part 16 has 836 edges\n",
      "Part 11 has 1152 edges\n",
      "Part 4 has 723 edges\n",
      "Part 8 has 886 edges\n",
      "Part 17 has 1092 edges\n",
      "Part 18 has 1585 edges\n",
      "Part 14 has 2344 edges\n",
      "Part 13 has 1362 edges\n",
      "Part 2 has 2159 edges\n",
      "Part 1 has 1780 edges\n"
     ]
    }
   ],
   "source": [
    "for part, subgraph in partition.subgraphs.items():\n",
    "    number_of_edges = len(subgraph.edges)\n",
    "    print(f\"Part {part} has {number_of_edges} edges\")"
   ]
  },
  {
   "cell_type": "code",
   "execution_count": 7,
   "metadata": {},
   "outputs": [
    {
     "name": "stdout",
     "output_type": "stream",
     "text": [
      "Part 3 has diameter 40\n",
      "Part 5 has diameter 30\n",
      "Part 10 has diameter 40\n",
      "Part 9 has diameter 40\n",
      "Part 12 has diameter 36\n",
      "Part 6 has diameter 32\n",
      "Part 15 has diameter 28\n",
      "Part 7 has diameter 38\n",
      "Part 16 has diameter 38\n",
      "Part 11 has diameter 31\n",
      "Part 4 has diameter 19\n",
      "Part 8 has diameter 24\n",
      "Part 17 has diameter 34\n",
      "Part 18 has diameter 28\n",
      "Part 14 has diameter 38\n",
      "Part 13 has diameter 30\n",
      "Part 2 has diameter 28\n",
      "Part 1 has diameter 50\n"
     ]
    }
   ],
   "source": [
    "import networkx\n",
    "for part, subgraph in partition.subgraphs.items():\n",
    "    diameter = networkx.diameter(subgraph)\n",
    "    print(f\"Part {part} has diameter {diameter}\")"
   ]
  },
  {
   "cell_type": "code",
   "execution_count": null,
   "metadata": {},
   "outputs": [],
   "source": []
  }
 ],
 "metadata": {
  "kernelspec": {
   "display_name": "Python 3",
   "language": "python",
   "name": "python3"
  },
  "language_info": {
   "codemirror_mode": {
    "name": "ipython",
    "version": 3
   },
   "file_extension": ".py",
   "mimetype": "text/x-python",
   "name": "python",
   "nbconvert_exporter": "python",
   "pygments_lexer": "ipython3",
   "version": "3.8.3"
  }
 },
 "nbformat": 4,
 "nbformat_minor": 4
}
